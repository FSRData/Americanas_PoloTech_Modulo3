{
  "nbformat": 4,
  "nbformat_minor": 0,
  "metadata": {
    "colab": {
      "provenance": [],
      "authorship_tag": "ABX9TyOXLgHX2KfbQBfNIzr7H7Aw",
      "include_colab_link": true
    },
    "kernelspec": {
      "name": "python3",
      "display_name": "Python 3"
    },
    "language_info": {
      "name": "python"
    }
  },
  "cells": [
    {
      "cell_type": "markdown",
      "metadata": {
        "id": "view-in-github",
        "colab_type": "text"
      },
      "source": [
        "<a href=\"https://colab.research.google.com/github/FSRData/Americanas_PoloTech_Modulo3/blob/main/Americanas_PoloTech_%7C_M%C3%B3dulo_3.ipynb\" target=\"_parent\"><img src=\"https://colab.research.google.com/assets/colab-badge.svg\" alt=\"Open In Colab\"/></a>"
      ]
    },
    {
      "cell_type": "markdown",
      "source": [
        "### **Americanas - PoloTech** | Módulo 3 | Aula 2 - NUMPY"
      ],
      "metadata": {
        "id": "OlTuFjTIlKIf"
      }
    },
    {
      "cell_type": "markdown",
      "source": [
        "##### Arrays diferentemente de listas permitem apenas um tipo de dado.\n",
        "##### Cnsomem menos memória e agilizam o processamento dos dados."
      ],
      "metadata": {
        "id": "yoV4lUw_6lOj"
      }
    },
    {
      "cell_type": "markdown",
      "source": [
        "#### Importação da Biblioteca Numpy"
      ],
      "metadata": {
        "id": "NSaVvIxl377-"
      }
    },
    {
      "cell_type": "code",
      "source": [
        "import numpy as np"
      ],
      "metadata": {
        "id": "4lCHgMm_ngbt"
      },
      "execution_count": 2,
      "outputs": []
    },
    {
      "cell_type": "markdown",
      "source": [
        "#### Metodo para transformação de lista em array"
      ],
      "metadata": {
        "id": "WEaxZxXj3_63"
      }
    },
    {
      "cell_type": "code",
      "source": [
        "lista = [1, 2, 3, 4, 5]"
      ],
      "metadata": {
        "id": "iep0vut-n0vN"
      },
      "execution_count": 69,
      "outputs": []
    },
    {
      "cell_type": "code",
      "source": [
        "lista"
      ],
      "metadata": {
        "colab": {
          "base_uri": "https://localhost:8080/"
        },
        "id": "9qotWHncoDE-",
        "outputId": "595e453c-d2d2-4422-9ccb-f9865bed8055"
      },
      "execution_count": 70,
      "outputs": [
        {
          "output_type": "execute_result",
          "data": {
            "text/plain": [
              "[1, 2, 3, 4, 5]"
            ]
          },
          "metadata": {},
          "execution_count": 70
        }
      ]
    },
    {
      "cell_type": "code",
      "source": [
        "array = np.array(lista)"
      ],
      "metadata": {
        "id": "zit6uZK14agS"
      },
      "execution_count": 71,
      "outputs": []
    },
    {
      "cell_type": "code",
      "source": [
        "array"
      ],
      "metadata": {
        "colab": {
          "base_uri": "https://localhost:8080/"
        },
        "id": "heJtC0bNoF2l",
        "outputId": "aa237825-fa31-437b-b0e1-d7f6edc85cf6"
      },
      "execution_count": 72,
      "outputs": [
        {
          "output_type": "execute_result",
          "data": {
            "text/plain": [
              "array([1, 2, 3, 4, 5])"
            ]
          },
          "metadata": {},
          "execution_count": 72
        }
      ]
    },
    {
      "cell_type": "markdown",
      "source": [
        "#### Metodo para inicialização de array com tamanho definido\n"
      ],
      "metadata": {
        "id": "0VLe83Jx4dY9"
      }
    },
    {
      "cell_type": "code",
      "source": [
        "# Preenchido com zero\n",
        "np.zeros(10)"
      ],
      "metadata": {
        "colab": {
          "base_uri": "https://localhost:8080/"
        },
        "id": "qBW1nx_0oldt",
        "outputId": "21daf6b5-ad2b-4ec2-d35d-3f6d7bbcc87e"
      },
      "execution_count": 11,
      "outputs": [
        {
          "output_type": "execute_result",
          "data": {
            "text/plain": [
              "array([0., 0., 0., 0., 0., 0., 0., 0., 0., 0.])"
            ]
          },
          "metadata": {},
          "execution_count": 11
        }
      ]
    },
    {
      "cell_type": "code",
      "source": [
        "# Preenchido com um\n",
        "np.ones(10)"
      ],
      "metadata": {
        "colab": {
          "base_uri": "https://localhost:8080/"
        },
        "id": "bzWZi1-7pGm8",
        "outputId": "d10a62e4-8aaf-4b04-e74c-9e56192c13f0"
      },
      "execution_count": 12,
      "outputs": [
        {
          "output_type": "execute_result",
          "data": {
            "text/plain": [
              "array([1., 1., 1., 1., 1., 1., 1., 1., 1., 1.])"
            ]
          },
          "metadata": {},
          "execution_count": 12
        }
      ]
    },
    {
      "cell_type": "markdown",
      "source": [
        "#### Criando array com a função range"
      ],
      "metadata": {
        "id": "4AXqfOah4ue1"
      }
    },
    {
      "cell_type": "code",
      "source": [
        "np.array(list(range(10)))"
      ],
      "metadata": {
        "colab": {
          "base_uri": "https://localhost:8080/"
        },
        "id": "UaqikOoEpaWk",
        "outputId": "d4065711-ea54-4535-e06f-812f16cb00a4"
      },
      "execution_count": 14,
      "outputs": [
        {
          "output_type": "execute_result",
          "data": {
            "text/plain": [
              "array([0, 1, 2, 3, 4, 5, 6, 7, 8, 9])"
            ]
          },
          "metadata": {},
          "execution_count": 14
        }
      ]
    },
    {
      "cell_type": "code",
      "source": [
        "np.array(list(range(3, 10, 2)))"
      ],
      "metadata": {
        "colab": {
          "base_uri": "https://localhost:8080/"
        },
        "id": "Zt0RVeTcpoDs",
        "outputId": "08ece007-b86f-42cf-9c7a-685184316710"
      },
      "execution_count": 15,
      "outputs": [
        {
          "output_type": "execute_result",
          "data": {
            "text/plain": [
              "array([3, 5, 7, 9])"
            ]
          },
          "metadata": {},
          "execution_count": 15
        }
      ]
    },
    {
      "cell_type": "markdown",
      "source": [
        "#### Usando método .arange()\n",
        "###### Análogo a função range()"
      ],
      "metadata": {
        "id": "0_G615AP40v1"
      }
    },
    {
      "cell_type": "code",
      "source": [
        "np.arange(10)"
      ],
      "metadata": {
        "colab": {
          "base_uri": "https://localhost:8080/"
        },
        "id": "QikpG0Iup4OP",
        "outputId": "c074dd03-0692-4178-a49b-603b3f9cf9b8"
      },
      "execution_count": 16,
      "outputs": [
        {
          "output_type": "execute_result",
          "data": {
            "text/plain": [
              "array([0, 1, 2, 3, 4, 5, 6, 7, 8, 9])"
            ]
          },
          "metadata": {},
          "execution_count": 16
        }
      ]
    },
    {
      "cell_type": "code",
      "source": [
        "np.arange(3, 10, 2)"
      ],
      "metadata": {
        "colab": {
          "base_uri": "https://localhost:8080/"
        },
        "id": "3hnTpmyaqBCL",
        "outputId": "3bd695f2-3d1f-409e-f95f-5e1ec0567bef"
      },
      "execution_count": 17,
      "outputs": [
        {
          "output_type": "execute_result",
          "data": {
            "text/plain": [
              "array([3, 5, 7, 9])"
            ]
          },
          "metadata": {},
          "execution_count": 17
        }
      ]
    },
    {
      "cell_type": "markdown",
      "source": [
        "#### Método .linspace()\n",
        "###### Cria um vetor com elementos ditribuídos igualitáriamente dentro do range especificado"
      ],
      "metadata": {
        "id": "BOqavEpL46An"
      }
    },
    {
      "cell_type": "code",
      "source": [
        "arr = np.linspace(35, 100, 20)\n",
        "arr"
      ],
      "metadata": {
        "colab": {
          "base_uri": "https://localhost:8080/"
        },
        "id": "jisICvgBqIb0",
        "outputId": "d648aab8-7590-49c2-ad28-21be4d196515"
      },
      "execution_count": 19,
      "outputs": [
        {
          "output_type": "execute_result",
          "data": {
            "text/plain": [
              "array([ 35.        ,  38.42105263,  41.84210526,  45.26315789,\n",
              "        48.68421053,  52.10526316,  55.52631579,  58.94736842,\n",
              "        62.36842105,  65.78947368,  69.21052632,  72.63157895,\n",
              "        76.05263158,  79.47368421,  82.89473684,  86.31578947,\n",
              "        89.73684211,  93.15789474,  96.57894737, 100.        ])"
            ]
          },
          "metadata": {},
          "execution_count": 19
        }
      ]
    },
    {
      "cell_type": "markdown",
      "source": [
        "#### Método .randon()\n",
        "###### Gera arrays com vetores de números aleatórios"
      ],
      "metadata": {
        "id": "oUPD6T9O5LoO"
      }
    },
    {
      "cell_type": "code",
      "source": [
        "# Método random.rand()\n",
        "# Gera números aleatórios com a mesma probabilidade de qualquer outro número dentro do range\n",
        "np.random.rand(10)"
      ],
      "metadata": {
        "colab": {
          "base_uri": "https://localhost:8080/"
        },
        "id": "7jpbNTqOqo2j",
        "outputId": "072584b6-f7d5-42ec-a141-93d91a3a9755"
      },
      "execution_count": 20,
      "outputs": [
        {
          "output_type": "execute_result",
          "data": {
            "text/plain": [
              "array([0.92151019, 0.70614185, 0.69876653, 0.58801736, 0.97649034,\n",
              "       0.08933779, 0.42641474, 0.56354566, 0.42864241, 0.25134294])"
            ]
          },
          "metadata": {},
          "execution_count": 20
        }
      ]
    },
    {
      "cell_type": "code",
      "source": [
        "# Método random.randint()\n",
        "# Gera números inteiros dentro do intervalo especificado\n",
        "# random.randint(x, y, z) onde:\n",
        "# x -> Ínicio\n",
        "# y -> Fim\n",
        "# z -> Passo\n",
        "np.random.randint(0, 100, 10)"
      ],
      "metadata": {
        "colab": {
          "base_uri": "https://localhost:8080/"
        },
        "id": "GmQumN9ttLw7",
        "outputId": "435f9745-f09d-40de-c334-632f177bb446"
      },
      "execution_count": 21,
      "outputs": [
        {
          "output_type": "execute_result",
          "data": {
            "text/plain": [
              "array([77, 43, 54, 25,  3,  7, 19, 43, 84, 52])"
            ]
          },
          "metadata": {},
          "execution_count": 21
        }
      ]
    },
    {
      "cell_type": "code",
      "source": [
        "# O método random.normal() gera números com maior probabilidade de estar dentro do valor médio da amostragem\n",
        "# random.normal(x, y, z) onde:\n",
        "# x -> Média\n",
        "# y -> Desvio padrão\n",
        "# z -> Qtde de números\n",
        "np.random.normal(2, 1, 3)"
      ],
      "metadata": {
        "colab": {
          "base_uri": "https://localhost:8080/"
        },
        "id": "-gifBf-Rvomx",
        "outputId": "3bf29549-8a92-456a-993e-c40d9c0f8ba0"
      },
      "execution_count": 24,
      "outputs": [
        {
          "output_type": "execute_result",
          "data": {
            "text/plain": [
              "array([1.95425491, 0.46881929, 1.4997914 ])"
            ]
          },
          "metadata": {},
          "execution_count": 24
        }
      ]
    },
    {
      "cell_type": "markdown",
      "source": [
        "#### Indexação"
      ],
      "metadata": {
        "id": "ePygyoyj50B5"
      }
    },
    {
      "cell_type": "code",
      "source": [
        "arr = np.arange(2, 50, 3)\n",
        "arr"
      ],
      "metadata": {
        "colab": {
          "base_uri": "https://localhost:8080/"
        },
        "id": "0iSeEYEhxc7h",
        "outputId": "0ac06ef2-e80f-435f-da2c-1e122a73ad06"
      },
      "execution_count": 26,
      "outputs": [
        {
          "output_type": "execute_result",
          "data": {
            "text/plain": [
              "array([ 2,  5,  8, 11, 14, 17, 20, 23, 26, 29, 32, 35, 38, 41, 44, 47])"
            ]
          },
          "metadata": {},
          "execution_count": 26
        }
      ]
    },
    {
      "cell_type": "code",
      "source": [
        "# Acessar um elemento individual:\n",
        "arr[2]"
      ],
      "metadata": {
        "colab": {
          "base_uri": "https://localhost:8080/"
        },
        "id": "6nPQh1vnxieY",
        "outputId": "e22e9fde-5e9c-4b6d-e8df-76ef9e531a5e"
      },
      "execution_count": 27,
      "outputs": [
        {
          "output_type": "execute_result",
          "data": {
            "text/plain": [
              "8"
            ]
          },
          "metadata": {},
          "execution_count": 27
        }
      ]
    },
    {
      "cell_type": "code",
      "source": [
        "# Acessando com índice negativo\n",
        "arr[-4]"
      ],
      "metadata": {
        "colab": {
          "base_uri": "https://localhost:8080/"
        },
        "id": "k27GMCTlxp7A",
        "outputId": "3b7669af-336b-47db-a55e-0d6fab8545eb"
      },
      "execution_count": 29,
      "outputs": [
        {
          "output_type": "execute_result",
          "data": {
            "text/plain": [
              "38"
            ]
          },
          "metadata": {},
          "execution_count": 29
        }
      ]
    },
    {
      "cell_type": "code",
      "source": [
        "# Slcing em arrays\n",
        "arr[2:5]"
      ],
      "metadata": {
        "colab": {
          "base_uri": "https://localhost:8080/"
        },
        "id": "WE3rZ-sGx4MP",
        "outputId": "9c9dce87-72c9-40ba-c90c-29e886b89089"
      },
      "execution_count": 30,
      "outputs": [
        {
          "output_type": "execute_result",
          "data": {
            "text/plain": [
              "array([ 8, 11, 14])"
            ]
          },
          "metadata": {},
          "execution_count": 30
        }
      ]
    },
    {
      "cell_type": "code",
      "source": [
        "# Slicing sem indicar o inicio\n",
        "arr[:5]"
      ],
      "metadata": {
        "colab": {
          "base_uri": "https://localhost:8080/"
        },
        "id": "QpoZwIQcx4SI",
        "outputId": "003978ce-06ac-4704-b412-6d058ae2d5a3"
      },
      "execution_count": 31,
      "outputs": [
        {
          "output_type": "execute_result",
          "data": {
            "text/plain": [
              "array([ 2,  5,  8, 11, 14])"
            ]
          },
          "metadata": {},
          "execution_count": 31
        }
      ]
    },
    {
      "cell_type": "code",
      "source": [
        "# Slicing sem indicar o final\n",
        "arr[-4:]"
      ],
      "metadata": {
        "colab": {
          "base_uri": "https://localhost:8080/"
        },
        "id": "zrVUznPkyEYh",
        "outputId": "5537ce86-74c7-4164-b810-e83b91c97f03"
      },
      "execution_count": 32,
      "outputs": [
        {
          "output_type": "execute_result",
          "data": {
            "text/plain": [
              "array([38, 41, 44, 47])"
            ]
          },
          "metadata": {},
          "execution_count": 32
        }
      ]
    },
    {
      "cell_type": "markdown",
      "source": [
        "#### Oeprações matemáticas simples\n",
        "###### São feitas elementos a elementos"
      ],
      "metadata": {
        "id": "oKAjpQ6k6LpB"
      }
    },
    {
      "cell_type": "code",
      "source": [
        "arr * 2 "
      ],
      "metadata": {
        "colab": {
          "base_uri": "https://localhost:8080/"
        },
        "id": "xa1TeiWqyzgo",
        "outputId": "4587293c-f37f-43c6-ecfa-0de0dcaf09fe"
      },
      "execution_count": 33,
      "outputs": [
        {
          "output_type": "execute_result",
          "data": {
            "text/plain": [
              "array([ 4, 10, 16, 22, 28, 34, 40, 46, 52, 58, 64, 70, 76, 82, 88, 94])"
            ]
          },
          "metadata": {},
          "execution_count": 33
        }
      ]
    },
    {
      "cell_type": "code",
      "source": [
        "arr + 2"
      ],
      "metadata": {
        "colab": {
          "base_uri": "https://localhost:8080/"
        },
        "id": "dljLjOUVy2nQ",
        "outputId": "d11a289c-47b6-4826-a480-8bc1ce86e9b6"
      },
      "execution_count": 34,
      "outputs": [
        {
          "output_type": "execute_result",
          "data": {
            "text/plain": [
              "array([ 4,  7, 10, 13, 16, 19, 22, 25, 28, 31, 34, 37, 40, 43, 46, 49])"
            ]
          },
          "metadata": {},
          "execution_count": 34
        }
      ]
    },
    {
      "cell_type": "code",
      "source": [
        "arr ** 2"
      ],
      "metadata": {
        "colab": {
          "base_uri": "https://localhost:8080/"
        },
        "id": "1kdzr9A2y5DI",
        "outputId": "df72a341-0cdb-4ada-8f03-a7f08493aaf8"
      },
      "execution_count": 35,
      "outputs": [
        {
          "output_type": "execute_result",
          "data": {
            "text/plain": [
              "array([   4,   25,   64,  121,  196,  289,  400,  529,  676,  841, 1024,\n",
              "       1225, 1444, 1681, 1936, 2209])"
            ]
          },
          "metadata": {},
          "execution_count": 35
        }
      ]
    },
    {
      "cell_type": "code",
      "source": [
        "arr1 = np.array([1, 2, 3])\n",
        "arr2 = np.array([4, 5, 6])"
      ],
      "metadata": {
        "id": "i0by7eLQzFvk"
      },
      "execution_count": 38,
      "outputs": []
    },
    {
      "cell_type": "code",
      "source": [
        "arr1 + arr2"
      ],
      "metadata": {
        "colab": {
          "base_uri": "https://localhost:8080/"
        },
        "id": "N_KTt4e8zfg4",
        "outputId": "8943eb9f-a456-4a73-dce3-9508908c950b"
      },
      "execution_count": 39,
      "outputs": [
        {
          "output_type": "execute_result",
          "data": {
            "text/plain": [
              "array([5, 7, 9])"
            ]
          },
          "metadata": {},
          "execution_count": 39
        }
      ]
    },
    {
      "cell_type": "code",
      "source": [
        "arr1 * arr2"
      ],
      "metadata": {
        "colab": {
          "base_uri": "https://localhost:8080/"
        },
        "id": "R6ka18zNzoML",
        "outputId": "2d86c1c7-f339-4d1a-b9f6-34c41ba33073"
      },
      "execution_count": 40,
      "outputs": [
        {
          "output_type": "execute_result",
          "data": {
            "text/plain": [
              "array([ 4, 10, 18])"
            ]
          },
          "metadata": {},
          "execution_count": 40
        }
      ]
    },
    {
      "cell_type": "code",
      "source": [
        "arr1 / arr2"
      ],
      "metadata": {
        "colab": {
          "base_uri": "https://localhost:8080/"
        },
        "id": "FW-F1Wn7zorf",
        "outputId": "7bc78910-6631-4b67-a703-d90db205e04c"
      },
      "execution_count": 41,
      "outputs": [
        {
          "output_type": "execute_result",
          "data": {
            "text/plain": [
              "array([0.25, 0.4 , 0.5 ])"
            ]
          },
          "metadata": {},
          "execution_count": 41
        }
      ]
    },
    {
      "cell_type": "markdown",
      "source": [
        "#### Métodos Úteis"
      ],
      "metadata": {
        "id": "a0IBF6YY6SXe"
      }
    },
    {
      "cell_type": "code",
      "source": [
        "# random.seed() fixa o resuldado do gerador de números aleatórios\n",
        "# Pode se apresentar como random_state\n",
        "\n",
        "np.random.seed(10)\n",
        "rand = np.random.randint(0, 10, 5)\n",
        "rand"
      ],
      "metadata": {
        "colab": {
          "base_uri": "https://localhost:8080/"
        },
        "id": "q9C39oUt0EHn",
        "outputId": "864a8b32-9a76-48ed-b445-b5bb254d247c"
      },
      "execution_count": 58,
      "outputs": [
        {
          "output_type": "execute_result",
          "data": {
            "text/plain": [
              "array([9, 4, 0, 1, 9])"
            ]
          },
          "metadata": {},
          "execution_count": 58
        }
      ]
    },
    {
      "cell_type": "code",
      "source": [
        "# Método para valor máximo\n",
        "rand.max()"
      ],
      "metadata": {
        "colab": {
          "base_uri": "https://localhost:8080/"
        },
        "id": "LPb4nWXN0sXD",
        "outputId": "8d732eea-3d93-4a55-9ac4-b0b2f4a99235"
      },
      "execution_count": 59,
      "outputs": [
        {
          "output_type": "execute_result",
          "data": {
            "text/plain": [
              "9"
            ]
          },
          "metadata": {},
          "execution_count": 59
        }
      ]
    },
    {
      "cell_type": "code",
      "source": [
        "# Método para valor mínimo\n",
        "rand.min()"
      ],
      "metadata": {
        "colab": {
          "base_uri": "https://localhost:8080/"
        },
        "id": "esOGbc-20xhW",
        "outputId": "aee84095-0422-48ff-ae3c-aa954dc92555"
      },
      "execution_count": 60,
      "outputs": [
        {
          "output_type": "execute_result",
          "data": {
            "text/plain": [
              "0"
            ]
          },
          "metadata": {},
          "execution_count": 60
        }
      ]
    },
    {
      "cell_type": "code",
      "source": [
        "# Método para posição valor máximo\n",
        "rand.argmax()"
      ],
      "metadata": {
        "colab": {
          "base_uri": "https://localhost:8080/"
        },
        "id": "2LeOZ8NJ0048",
        "outputId": "6ef66ba9-46d7-4bb1-bf2e-16ffa7114a11"
      },
      "execution_count": 61,
      "outputs": [
        {
          "output_type": "execute_result",
          "data": {
            "text/plain": [
              "0"
            ]
          },
          "metadata": {},
          "execution_count": 61
        }
      ]
    },
    {
      "cell_type": "code",
      "source": [
        "# Método para posição valor minimo\n",
        "rand.argmin()"
      ],
      "metadata": {
        "colab": {
          "base_uri": "https://localhost:8080/"
        },
        "id": "6d3QMKMl08uH",
        "outputId": "0994c5aa-f196-47a4-c86e-7bebc7acd571"
      },
      "execution_count": 62,
      "outputs": [
        {
          "output_type": "execute_result",
          "data": {
            "text/plain": [
              "2"
            ]
          },
          "metadata": {},
          "execution_count": 62
        }
      ]
    },
    {
      "cell_type": "code",
      "source": [
        "# Somar todos os valores\n",
        "rand.sum()"
      ],
      "metadata": {
        "colab": {
          "base_uri": "https://localhost:8080/"
        },
        "id": "HDAkZgCq1C3X",
        "outputId": "36509d81-7643-4509-d0d9-609679c9fa31"
      },
      "execution_count": 64,
      "outputs": [
        {
          "output_type": "execute_result",
          "data": {
            "text/plain": [
              "23"
            ]
          },
          "metadata": {},
          "execution_count": 64
        }
      ]
    },
    {
      "cell_type": "code",
      "source": [
        "# Média de todos os valores\n",
        "rand.mean()"
      ],
      "metadata": {
        "colab": {
          "base_uri": "https://localhost:8080/"
        },
        "id": "MYbJ4y3Z1G8n",
        "outputId": "579625d7-e934-4cce-8147-0d3810f69673"
      },
      "execution_count": 63,
      "outputs": [
        {
          "output_type": "execute_result",
          "data": {
            "text/plain": [
              "4.6"
            ]
          },
          "metadata": {},
          "execution_count": 63
        }
      ]
    },
    {
      "cell_type": "markdown",
      "source": [
        "#### Desvio Padrão dos valores"
      ],
      "metadata": {
        "id": "IXtAVrm130nO"
      }
    },
    {
      "cell_type": "code",
      "source": [
        "rand.std()"
      ],
      "metadata": {
        "colab": {
          "base_uri": "https://localhost:8080/"
        },
        "id": "WvuUC0f31N2P",
        "outputId": "c0e64230-b27f-4124-eb61-e790e8bb5d65"
      },
      "execution_count": 65,
      "outputs": [
        {
          "output_type": "execute_result",
          "data": {
            "text/plain": [
              "3.826225293941798"
            ]
          },
          "metadata": {},
          "execution_count": 65
        }
      ]
    },
    {
      "cell_type": "markdown",
      "source": [
        "#### Ordenar os valores do array"
      ],
      "metadata": {
        "id": "pK14lmnV3rDO"
      }
    },
    {
      "cell_type": "code",
      "source": [
        "rand.sort()\n",
        "rand"
      ],
      "metadata": {
        "colab": {
          "base_uri": "https://localhost:8080/"
        },
        "id": "ZeWzU0m81Tl2",
        "outputId": "576d2917-8a60-48a3-de7b-b8b707fc09ce"
      },
      "execution_count": 66,
      "outputs": [
        {
          "output_type": "execute_result",
          "data": {
            "text/plain": [
              "array([0, 1, 4, 9, 9])"
            ]
          },
          "metadata": {},
          "execution_count": 66
        }
      ]
    },
    {
      "cell_type": "markdown",
      "source": [
        "#### Alterar o tipo de dado"
      ],
      "metadata": {
        "id": "yotRaPu_3gkW"
      }
    },
    {
      "cell_type": "code",
      "source": [
        "rand.astype(float)"
      ],
      "metadata": {
        "colab": {
          "base_uri": "https://localhost:8080/"
        },
        "id": "qOHAMia-1dDA",
        "outputId": "acf4f488-aa4f-4290-b0cc-de61a9447493"
      },
      "execution_count": 67,
      "outputs": [
        {
          "output_type": "execute_result",
          "data": {
            "text/plain": [
              "array([0., 1., 4., 9., 9.])"
            ]
          },
          "metadata": {},
          "execution_count": 67
        }
      ]
    },
    {
      "cell_type": "markdown",
      "source": [
        "#### Exercícios"
      ],
      "metadata": {
        "id": "bYcZNl__7A2q"
      }
    },
    {
      "cell_type": "markdown",
      "source": [
        "#### **Exercício 1**\n",
        "\n",
        "##### Escreva uma função que receba dois argumentos: um número qualquer de arrays (de mesmo tamanho) em numpy; e o número de elementos de cada array. A função deve retornar um escalar que representa a soma total de todos estes arrays. Inclua na função uma condição de verificação em que, caso haja um array de tamanho distinto dos demais, um erro seja retornado."
      ],
      "metadata": {
        "id": "J63kSMny7FPT"
      }
    },
    {
      "cell_type": "code",
      "source": [],
      "metadata": {
        "id": "zWts8paH7EKS"
      },
      "execution_count": null,
      "outputs": []
    },
    {
      "cell_type": "markdown",
      "source": [
        "#### **Exercício 2**\n",
        "##### Em estatística, a normalização de uma distribuição de dados pode ser feita subtraindo o valor médio da distribuição de cada valor do conjunto de dados, dividindo o resultado pelo desvio-padrão da distribuição. Escreva uma função que normalize os dados recebidos por um array numpy qualquer, conforme descrito anteriormente.\n"
      ],
      "metadata": {
        "id": "BbkBism-7Kc9"
      }
    },
    {
      "cell_type": "code",
      "source": [],
      "metadata": {
        "id": "87S3odYg7EQi"
      },
      "execution_count": null,
      "outputs": []
    },
    {
      "cell_type": "markdown",
      "source": [
        "#### **Exercício 3**\n",
        "##### Escreva uma função em numpy que receba um array contendo notas de uma turma de 100 estudantes. Considere que a nota de aprovação da turma é 5.0. A função deve retornar, em um array numpy, nesta ordem:\n",
        "- a média e o desvio-padrão das notas da turma;\n",
        "- o número de notas maiores que 7.0;\n",
        "- o número de reprovações da turma;\n",
        "- a menor nota da turma;\n",
        "- a maior nota da turma."
      ],
      "metadata": {
        "id": "sTeycOT17nGE"
      }
    },
    {
      "cell_type": "code",
      "source": [],
      "metadata": {
        "id": "0gBZoafs7xID"
      },
      "execution_count": null,
      "outputs": []
    },
    {
      "cell_type": "markdown",
      "source": [
        "#### **Exercício 4**\n",
        "##### Em Geometria Analítica, um **vetor** é uma quantidade que pode ser definida por um énuplo (uma sequência ordenada de *n* elementos) em que cada elemento representa a intensidade do vetor na direção especificada pela i-ésima componente desta sequência. \n",
        "\n",
        "Quando pensamos em duas dimensões, por exemplo, o vetor $R = (b,a)$ define, geometricamente, a entidade representada na figura abaixo, com componentes nos eixos x e y usuais.\n",
        "\n",
        "<img src = \"https://static.todamateria.com.br/upload/im/ag/image-721.jpg?auto_optimize=low\" />\n",
        "\n",
        "O **módulo** deste vetor, também chamado de intensidade, está geometricamente relacionado ao seu comprimento, e pode ser calculado diretamente pelas suas componentes, por meio de uma operação conhecida como **produto escalar** do vetor com ele mesmo. O módulo quadrático é expresso, desta forma, por:\n",
        "\n",
        "$|A|^2 = \\vec{A} \\cdot \\vec{A}$\n",
        "\n",
        "Por outro lado, o produto escalar entre dois vetores $A = (a_{x}, a_{y})$ e $B = (b_{x}, b_{y})$ é dado por:\n",
        "\n",
        "$\\vec{A} \\cdot \\vec{B} = a_{x} \\times b_{x} + a_{y} \\times b_{y}$ (e esta definição vale para qualquer que seja a dimensão do vetor).\n",
        "\n",
        "O módulo quadrático de um vetor é, portanto:\n",
        "\n",
        "$|A|² = a_{x}^2 + b_{x}^2$."
      ],
      "metadata": {
        "id": "p0vJDfBu7o17"
      }
    },
    {
      "cell_type": "code",
      "source": [],
      "metadata": {
        "id": "zyPdn_LL7wZb"
      },
      "execution_count": null,
      "outputs": []
    },
    {
      "cell_type": "markdown",
      "source": [
        "### **Americanas - PoloTech** | Módulo 3 | Aula 3 - NUMPY"
      ],
      "metadata": {
        "id": "L2S61mpv6y_P"
      }
    }
  ]
}